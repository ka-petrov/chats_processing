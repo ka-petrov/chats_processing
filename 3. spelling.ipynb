{
 "cells": [
  {
   "cell_type": "code",
   "execution_count": 1,
   "metadata": {
    "collapsed": true
   },
   "outputs": [],
   "source": [
    "%load_ext autoreload"
   ]
  },
  {
   "cell_type": "code",
   "execution_count": 2,
   "metadata": {
    "collapsed": true
   },
   "outputs": [],
   "source": [
    "import data.merge_data as md\n",
    "from collections import Counter\n",
    "import pandas as pd\n",
    "import re"
   ]
  },
  {
   "cell_type": "markdown",
   "metadata": {},
   "source": [
    "### This is a quick example of spellchecking for multiple languages using `pyenchant` package\n",
    "\n",
    "First of all, we load the message data and count words frequencies similar to `words_distribution.ipynb`"
   ]
  },
  {
   "cell_type": "code",
   "execution_count": 3,
   "metadata": {
    "collapsed": false
   },
   "outputs": [
    {
     "name": "stdout",
     "output_type": "stream",
     "text": [
      "Total words: 644556\n"
     ]
    }
   ],
   "source": [
    "data = md.get_data()\n",
    "msg = data['body']\n",
    "\n",
    "words = []\n",
    "for i, m in enumerate(msg.items()):\n",
    "    lst = re.split('\\s+', m[1].lower())\n",
    "    lst = [''.join(e for e in x if e.isalnum()) for x in lst]  # remove special chars\n",
    "    lst = [x for x in lst if len(x) > 0]  # remove words shorter than N\n",
    "    words.extend(lst)\n",
    "\n",
    "print('Total words:', len(words))\n",
    "\n",
    "c = Counter(words)\n",
    "df = pd.DataFrame(c.most_common())\n",
    "df.columns = ['word', 'freq']"
   ]
  },
  {
   "cell_type": "markdown",
   "metadata": {},
   "source": [
    "`pyenchant` library can load external dictionaries, such as https://packages.ubuntu.com/trusty/myspell-dictionary. English is usually installed by default. To list available dictionaries:"
   ]
  },
  {
   "cell_type": "code",
   "execution_count": 4,
   "metadata": {
    "collapsed": false
   },
   "outputs": [
    {
     "data": {
      "text/plain": [
       "['ru_RU', 'en_US', 'en', 'en_CA', 'en_GB']"
      ]
     },
     "execution_count": 4,
     "metadata": {},
     "output_type": "execute_result"
    }
   ],
   "source": [
    "import enchant\n",
    "enchant.list_languages()"
   ]
  },
  {
   "cell_type": "markdown",
   "metadata": {},
   "source": [
    "If your language isn't in the list, just install the dictionary package, e.g. for Ubuntu Linux and Russian language:\n",
    "\n",
    "`sudo apt-get install myspell-ru`"
   ]
  },
  {
   "cell_type": "code",
   "execution_count": 5,
   "metadata": {
    "collapsed": true
   },
   "outputs": [],
   "source": [
    "# load the dictionary\n",
    "d = enchant.Dict('ru_RU')"
   ]
  },
  {
   "cell_type": "markdown",
   "metadata": {
    "collapsed": true
   },
   "source": [
    "The following code will output the full list of misspelled words arranged by frequency"
   ]
  },
  {
   "cell_type": "code",
   "execution_count": null,
   "metadata": {
    "collapsed": false,
    "scrolled": true
   },
   "outputs": [],
   "source": [
    "df['OK'] = df['word'].apply(lambda x: d.check(x))\n",
    "df[df['OK'] == False]"
   ]
  },
  {
   "cell_type": "markdown",
   "metadata": {},
   "source": [
    "Next, we can count how many unique misspelled words there are in the dataset"
   ]
  },
  {
   "cell_type": "code",
   "execution_count": 7,
   "metadata": {
    "collapsed": false
   },
   "outputs": [
    {
     "name": "stdout",
     "output_type": "stream",
     "text": [
      "Unique words: 62987, Misspelled: 19854, Ratio: 0.315207900042866\n"
     ]
    }
   ],
   "source": [
    "unique_words = len(df)\n",
    "unknown_words = len(df[df['OK'] == False])\n",
    "print('Unique words: {0}, Misspelled: {1}, Ratio: {2}'.format(unique_words,\n",
    "    unknown_words, unknown_words / unique_words))"
   ]
  },
  {
   "cell_type": "markdown",
   "metadata": {},
   "source": [
    "For me, roughly 30% of all unique words aren't recognized by spellcheker :)\n",
    "Of course, it doesn't mean all of these errors are grammar errors. Mostly it's just typos, slang words, characters from smiley faces that weren't deleted by the procedure at the beginning (;P), and lots of other trash I didn't care to filter out. So this is a very basic example that should be improved to have somewhat practical meaning."
   ]
  },
  {
   "cell_type": "code",
   "execution_count": null,
   "metadata": {
    "collapsed": true
   },
   "outputs": [],
   "source": []
  }
 ],
 "metadata": {
  "anaconda-cloud": {},
  "kernelspec": {
   "display_name": "Python [conda root]",
   "language": "python",
   "name": "conda-root-py"
  },
  "language_info": {
   "codemirror_mode": {
    "name": "ipython",
    "version": 3
   },
   "file_extension": ".py",
   "mimetype": "text/x-python",
   "name": "python",
   "nbconvert_exporter": "python",
   "pygments_lexer": "ipython3",
   "version": "3.5.2"
  }
 },
 "nbformat": 4,
 "nbformat_minor": 2
}
